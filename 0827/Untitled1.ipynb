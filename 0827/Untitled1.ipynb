{
 "cells": [
  {
   "cell_type": "code",
   "execution_count": 3,
   "metadata": {},
   "outputs": [],
   "source": [
    "import openpyxl\n",
    "import os\n",
    "# os.chdir 是 python 切換到電腦指定路徑的方法\n",
    "os.chdir(r\"C:\\Users\\MIS801\\Desktop\")\n",
    "# 開啓名爲 “OIT” 的 excel 檔案，存入 workbook 這個變數中\n",
    "workbook = openpyxl.load_workbook(\"OIT.xlsx\")\n",
    "# 從 workbook 中開啓一個名爲 'HelloWorld' 的工作表，存入 sheet 變數\n",
    "sheet = workbook['HelloWorld']\n",
    "# 把 “Hello World!” 這個字串賦值到 row 為 1, column 為 1 的,也就是儲存格 A1\n",
    "sheet.cell(row=1, column=1).value = \"Hello World!\"\n",
    "#A2\n",
    "sheet.cell(row=2, column=1).value = \"Hello A2!\"\n",
    "#B1\n",
    "sheet.cell(row=1, column=2).value = \"Hello B1!\"\n",
    "# 存檔\n",
    "workbook.save('OIT.xlsx')"
   ]
  },
  {
   "cell_type": "code",
   "execution_count": 4,
   "metadata": {},
   "outputs": [
    {
     "name": "stdout",
     "output_type": "stream",
     "text": [
      "日期\n"
     ]
    }
   ],
   "source": [
    "#讀取一個 Excel 儲存格的值\n",
    "import openpyxl\n",
    "import os\n",
    "\n",
    "# os.chdir 是 python 切換到電腦指定路徑的方法\n",
    "os.chdir(r\"C:\\Users\\MIS801\\Desktop\")\n",
    "# 開啓 excel 檔案，存入 workbook 這個變數中\n",
    "workbook = openpyxl.load_workbook(\"stock_data.xlsx\")\n",
    "# 從 workbook 中開啓一個名爲 2330 的工作表，存入 sheet 變數\n",
    "sheet = workbook[\"2330\"]\n",
    "# 讀取 row 為 1, column 為 1 的儲存格\n",
    "result = sheet.cell(row=1, column=1).value\n",
    "# 日期\n",
    "print(result)"
   ]
  },
  {
   "cell_type": "code",
   "execution_count": 8,
   "metadata": {},
   "outputs": [
    {
     "name": "stdout",
     "output_type": "stream",
     "text": [
      "0.0378619153674833\n"
     ]
    }
   ],
   "source": [
    "#讀取一個 Excel 儲存格的值\n",
    "import openpyxl\n",
    "import os\n",
    "\n",
    "# os.chdir 是 python 切換到電腦指定路徑的方法\n",
    "os.chdir(r\"C:\\Users\\MIS801\\Desktop\")\n",
    "# 開啓 excel 檔案，存入 workbook 這個變數中\n",
    "workbook = openpyxl.load_workbook(\"stock_data.xlsx\")\n",
    "# 從 workbook 中開啓一個名爲 2330 的工作表，存入 sheet 變數\n",
    "sheet = workbook[\"2330\"]\n",
    "# 讀取 row 為 1, column 為 1 的儲存格\n",
    "today_price = sheet.cell(row=4, column=2).value\n",
    "yesterday_price = sheet.cell(row=3, column=2).value\n",
    "result = (today_price - yesterday_price) / yesterday_price\n",
    "print(result)"
   ]
  },
  {
   "cell_type": "code",
   "execution_count": 26,
   "metadata": {},
   "outputs": [
    {
     "name": "stdout",
     "output_type": "stream",
     "text": [
      "0.0378619153674833\n",
      "227.33333333333334\n"
     ]
    }
   ],
   "source": [
    "#讀取一個 Excel 儲存格的值\n",
    "import openpyxl\n",
    "import os\n",
    "\n",
    "# os.chdir 是 python 切換到電腦指定路徑的方法\n",
    "os.chdir(r\"C:\\Users\\MIS801\\Desktop\")\n",
    "# 開啓 excel 檔案，存入 workbook 這個變數中\n",
    "workbook = openpyxl.load_workbook(\"stock_data.xlsx\")\n",
    "# 從 workbook 中開啓一個名爲 2330 的工作表，存入 sheet 變數\n",
    "sheet = workbook[\"2330\"]\n",
    "# 讀取 row 為 , column 為  的儲存格\n",
    "today_price = sheet.cell(row=4, column=2).value\n",
    "yesterday_price = sheet.cell(row=3, column=2).value\n",
    "The_yesterday = sheet.cell(row=2, column=2).value\n",
    "\n",
    "result = (today_price - yesterday_price) / yesterday_price\n",
    "result2 = (today_price +yesterday_price+The_yesterday)/3\n",
    "print(result)\n",
    "print(result2)"
   ]
  },
  {
   "cell_type": "code",
   "execution_count": 45,
   "metadata": {},
   "outputs": [],
   "source": [
    "#讀取一個 Excel 儲存格的值\n",
    "import openpyxl\n",
    "import os\n",
    "# os.chdir 是 python 切換到電腦指定路徑的方法\n",
    "os.chdir(r\"C:\\Users\\MIS801\\Desktop\")\n",
    "# 開啓 excel 檔案，存入 workbook 這個變數中\n",
    "workbook = openpyxl.load_workbook(\"stock_data.xlsx\")\n",
    "# 從 workbook 中開啓一個名爲 2330 的工作表，存入 sheet 變數\n",
    "sheet = workbook[\"2330\"]\n",
    "\n",
    "#把資料上色\n",
    "from openpyxl.styles import PatternFill, Font\n",
    "\n",
    "for i in range(4, 100):\n",
    "    today = sheet.cell(row=i, column=2).value\n",
    "    yesterday = sheet.cell(row=i-1, column=2).value\n",
    "    sheet.cell(row=i, column=3).value = (today-yesterday)/yesterday\n",
    "    sheet.cell(row=i, column=4).value = ( sheet.cell(row=i, column=2).value +  sheet.cell(row=i-1, column=2).value  + sheet.cell(row=i-2, column=2).value )/3\n",
    "    #背景顏色\n",
    "    sheet.cell(row=i-1, column=4).fill = PatternFill(fgColor='FFAA33', fill_type = 'solid')\n",
    "    #文字顏色\n",
    "    sheet.cell(row=i-1, column=4).font = Font(b=True, color=\"FFFFFF\")\n",
    "    # 格式化百分比\n",
    "    sheet.cell(row=i, column=3).number_format = '0.00%'\n",
    "workbook.save(\"stock_data.xlsx\")#把資料寫入 excel"
   ]
  },
  {
   "cell_type": "code",
   "execution_count": 59,
   "metadata": {},
   "outputs": [
    {
     "name": "stdout",
     "output_type": "stream",
     "text": [
      "有1，['亞東技術學院']\n"
     ]
    }
   ],
   "source": [
    "#字典讀檔\n",
    "import csv\n",
    "os.chdir(r\"C:\\Users\\MIS801\\Desktop\")#路徑\n",
    "with open('107_student.csv', newline='', encoding=\"utf-8\") as csvFile:#encoding=\"utf-8\" 中文字編碼\n",
    "    rows = csv.DictReader(csvFile)\n",
    "    school = [] \n",
    "    for row in rows:\n",
    "        #print(row[\"學校名稱\"]) \n",
    "        if \"亞東\" in row[\"學校名稱\"] not in school:\n",
    "            school.append(row[\"學校名稱\"])            \n",
    "    print(\"有{}，{}\".format(len(school),school))  \n",
    "        "
   ]
  },
  {
   "cell_type": "code",
   "execution_count": 30,
   "metadata": {},
   "outputs": [
    {
     "name": "stdout",
     "output_type": "stream",
     "text": [
      "請輸入欲查詢的年度，如 107:107\n",
      "請輸入區域，如臺北、花蓮等花蓮\n",
      "107年度，花蓮有5間學校，['國立東華大學', '慈濟大學', '慈濟科技大學', '大漢技術學院', '臺灣觀光學院']\n"
     ]
    }
   ],
   "source": [
    "import csv\n",
    "from urllib.request import urlopen\n",
    "import os\n",
    "\n",
    "year = input(\"請輸入欲查詢的年度，如 107:\")\n",
    "url = 'http://stats.moe.gov.tw/files/detail/'+year+'/'+year+'_student.csv'#直接抓網站路徑\n",
    "f = urlopen(url)\n",
    "temp = \"temp.csv\"\n",
    "with open(temp, \"wb\") as code:\n",
    "    code.write(f.read()) \n",
    "\n",
    "\n",
    "# 開啟 CSV 檔案\n",
    "with open(temp, newline='', encoding=\"utf-8\") as csvFile:\n",
    "  # 1.直接讀取：讀取 CSV 檔案內容\n",
    "  #rows = csv.reader(csvFile)\n",
    "    \n",
    "  # 2.自訂分隔符號：讀取 CSV 檔案內容\n",
    "    rows = csv.reader(csvFile, delimiter=',')\n",
    "    school = [] \n",
    "    local = input(\"請輸入區域，如臺北、花蓮等\")\n",
    "  # 迴圈輸出 每一列\n",
    "    for row in rows:\n",
    "        if local in row[-2] and row[1] not in school:\n",
    "            school.append(row[1])\n",
    "          #  print(row)\n",
    "    print(\"{}年度，{}有{}間學校，{}\".format(year,local,len(school),school))  \n",
    "os.remove(temp)#移除檔案"
   ]
  },
  {
   "cell_type": "code",
   "execution_count": 40,
   "metadata": {},
   "outputs": [
    {
     "name": "stdout",
     "output_type": "stream",
     "text": [
      "請輸入:國立\n",
      "國立的學校有47間，['國立政治大學', '國立清華大學', '國立臺灣大學', '國立臺灣師範大學', '國立成功大學', '國立中興大學', '國立交通大學', '國立中央大學', '國立中山大學', '國立臺灣海洋大學', '國立中正大學', '國立高雄師範大學', '國立彰化師範大學', '國立陽明大學', '國立臺北大學', '國立嘉義大學', '國立高雄大學', '國立東華大學', '國立暨南國際大學', '國立臺灣科技大學', '國立雲林科技大學', '國立屏東科技大學', '國立臺北科技大學', '國立臺北藝術大學', '國立臺灣藝術大學', '國立臺東大學', '國立宜蘭大學', '國立聯合大學', '國立虎尾科技大學', '國立臺南藝術大學', '國立臺南大學', '國立臺北教育大學', '國立臺中教育大學', '國立澎湖科技大學', '國立勤益科技大學', '國立體育大學', '國立臺北護理健康大學', '國立高雄餐旅大學', '國立金門大學', '國立臺灣體育運動大學', '國立臺中科技大學', '國立臺北商業大學', '國立屏東大學', '國立高雄科技大學', '國立臺灣戲曲學院', '國立臺南護理專科學校', '國立臺東專科學校']\n"
     ]
    }
   ],
   "source": [
    "import csv\n",
    "os.chdir(r\"C:\\Users\\MIS801\\Desktop\")#路徑\n",
    "# 開啟 CSV 檔案\n",
    "local = input(\"請輸入:\")\n",
    "with open('107_student.csv', newline='', encoding=\"utf-8\") as csvFile:\n",
    "    rows = csv.reader(csvFile, delimiter=',')\n",
    "    school = [] \n",
    "    for row in rows:        #print(row[\"學校名稱\"])   \n",
    "        if local in row[1] not in school:\n",
    "            school.append(row[1])\n",
    "    print(\"{}的學校有{}間，{}\".format(local,len(school),school))  "
   ]
  },
  {
   "cell_type": "code",
   "execution_count": 41,
   "metadata": {},
   "outputs": [],
   "source": [
    "#每天自動撈資料\n",
    "#證交所\n",
    "import csv\n",
    "from urllib.request import urlopen\n",
    "import os\n",
    "import datetime\n",
    "os.chdir(r\"C:\\Users\\MIS801\\Desktop\")#路徑\n",
    "date = datetime.datetime.now().strftime(\"%Y%m%d\")#抓日期\n",
    "\n",
    "#url = 'http://stats.moe.gov.tw/files/detail/'+year+'/'+year+'_student.csv'\n",
    "url = 'https://www.twse.com.tw/exchangeReport/MI_INDEX?response=csv&date='+date+'&type=ALLBUT0999'\n",
    "f = urlopen(url)\n",
    "temp = date+ \".csv\"\n",
    "with open(temp, \"wb\") as code:\n",
    "    code.write(f.read())     \n"
   ]
  },
  {
   "cell_type": "code",
   "execution_count": null,
   "metadata": {},
   "outputs": [],
   "source": []
  },
  {
   "cell_type": "code",
   "execution_count": null,
   "metadata": {},
   "outputs": [],
   "source": []
  }
 ],
 "metadata": {
  "kernelspec": {
   "display_name": "Python 3",
   "language": "python",
   "name": "python3"
  },
  "language_info": {
   "codemirror_mode": {
    "name": "ipython",
    "version": 3
   },
   "file_extension": ".py",
   "mimetype": "text/x-python",
   "name": "python",
   "nbconvert_exporter": "python",
   "pygments_lexer": "ipython3",
   "version": "3.7.1"
  }
 },
 "nbformat": 4,
 "nbformat_minor": 2
}
