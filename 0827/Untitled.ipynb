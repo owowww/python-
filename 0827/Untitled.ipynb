{
 "cells": [
  {
   "cell_type": "code",
   "execution_count": null,
   "metadata": {},
   "outputs": [],
   "source": [
    "import json\n",
    "\n",
    "from urllib.request import urlopen\n",
    "u = urlopen(\"http://data.ntpc.gov.tw/api/v1/rest/datastore/382000000A-000352-001\")\n",
    "\n",
    "resp = json.load(u)\n",
    "keyword = input(\"請輸入要查詢的站名或關鍵字\")\n",
    "for i in range( len(resp[\"result\"][\"records\"])):\n",
    "    if( keyword in resp[\"result\"][\"records\"][i][\"sna\"]): # in\n",
    "        print(resp[\"result\"][\"records\"][i][\"sna\"],end=\"\")\n",
    "        print(resp[\"result\"][\"records\"][i][\"sbi\"])\n",
    "\n",
    "for i in range( len(resp[\"result\"][\"records\"])):\n",
    "    rate = int(resp[\"result\"][\"records\"][i][\"sbi\"]) \n",
    "    if(rate >10):\n",
    "        print(\"站名:{}，目前可借數量{}\".format(resp[\"result\"][\"records\"][i][\"sna\"],resp[\"result\"][\"records\"][i][\"sbi\"]))\n"
   ]
  },
  {
   "cell_type": "code",
   "execution_count": 2,
   "metadata": {},
   "outputs": [
    {
     "name": "stdout",
     "output_type": "stream",
     "text": [
      "請輸入要查詢的站名或關鍵字三重\n",
      "站名:三重商工，地址:中正北路/中正北路276巷，目前可借數量:57\n",
      "站名:三重行政中心，地址:新北大道一段15巷至新北大道一段5巷2弄(區公所人行道)，目前可借數量:30\n",
      "站名:三重綜合體育館，地址:新北大道一段1號前人行道，目前可借數量:45\n",
      "站名:捷運三重國小站，地址:仁愛街/三和路3段11巷，目前可借數量:17\n",
      "站名:三重永豐公園，地址:永福街197巷6之1號，目前可借數量:22\n",
      "站名:三重五常公園，地址:三重區五華街7巷(對面公園人行道)，目前可借數量:20\n",
      "站名:中正北路193巷(愛買三重店)，地址:中正北路193巷45號(賣場停車場)，目前可借數量:11\n",
      "站名:三重高中，地址:集美街217號(對面)，目前可借數量:18\n"
     ]
    }
   ],
   "source": [
    "#讓使用者輸入區域關鍵字，如 三重 蘆洲 板橋 等 顯示該區域 可借車輛 大於10的站名、地址、以及可借數量\n",
    "import json\n",
    "\n",
    "from urllib.request import urlopen\n",
    "u = urlopen(\"http://data.ntpc.gov.tw/api/v1/rest/datastore/382000000A-000352-001\")\n",
    "\n",
    "resp = json.load(u)\n",
    "keyword = input(\"請輸入要查詢的站名或關鍵字\")\n",
    "for i in range( len(resp[\"result\"][\"records\"])):\n",
    "    rate = int(resp[\"result\"][\"records\"][i][\"sbi\"]) \n",
    "    if(rate >10):\n",
    "        if( keyword in resp[\"result\"][\"records\"][i][\"sna\"]): # in\n",
    "            \n",
    "            print(\"站名:{}，地址:{}，目前可借數量:{}\".format(resp[\"result\"][\"records\"][i][\"sna\"],resp[\"result\"][\"records\"][i][\"ar\"],resp[\"result\"][\"records\"][i][\"sbi\"]))\n",
    "\n"
   ]
  },
  {
   "cell_type": "code",
   "execution_count": null,
   "metadata": {},
   "outputs": [],
   "source": []
  }
 ],
 "metadata": {
  "kernelspec": {
   "display_name": "Python 3",
   "language": "python",
   "name": "python3"
  },
  "language_info": {
   "codemirror_mode": {
    "name": "ipython",
    "version": 3
   },
   "file_extension": ".py",
   "mimetype": "text/x-python",
   "name": "python",
   "nbconvert_exporter": "python",
   "pygments_lexer": "ipython3",
   "version": "3.7.1"
  }
 },
 "nbformat": 4,
 "nbformat_minor": 2
}
