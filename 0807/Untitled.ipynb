{
 "cells": [
  {
   "cell_type": "code",
   "execution_count": 1,
   "metadata": {},
   "outputs": [
    {
     "data": {
      "text/plain": [
       "'PYT'"
      ]
     },
     "execution_count": 1,
     "metadata": {},
     "output_type": "execute_result"
    }
   ],
   "source": [
    "\"PYTHON\"[0:3]"
   ]
  },
  {
   "cell_type": "code",
   "execution_count": 2,
   "metadata": {},
   "outputs": [
    {
     "data": {
      "text/plain": [
       "'HO'"
      ]
     },
     "execution_count": 2,
     "metadata": {},
     "output_type": "execute_result"
    }
   ],
   "source": [
    "\"PYTHON\"[3:5]"
   ]
  },
  {
   "cell_type": "code",
   "execution_count": 3,
   "metadata": {},
   "outputs": [
    {
     "data": {
      "text/plain": [
       "'This pasta is yummy'"
      ]
     },
     "execution_count": 3,
     "metadata": {},
     "output_type": "execute_result"
    }
   ],
   "source": [
    "'This {food} is {adj}'.format(adj=\"yummy\", food=\"pasta\")"
   ]
  },
  {
   "cell_type": "code",
   "execution_count": 4,
   "metadata": {},
   "outputs": [
    {
     "data": {
      "text/plain": [
       "True"
      ]
     },
     "execution_count": 4,
     "metadata": {},
     "output_type": "execute_result"
    }
   ],
   "source": [
    "'hello' == 'hello'\n",
    "# True\n",
    "47 > 47\n",
    "# False\n",
    "47 >= 47\n",
    "# True"
   ]
  },
  {
   "cell_type": "code",
   "execution_count": 5,
   "metadata": {},
   "outputs": [
    {
     "name": "stdout",
     "output_type": "stream",
     "text": [
      "my name is Bob!\n"
     ]
    }
   ],
   "source": [
    "myName = \"Bob\"\n",
    "\n",
    "if myName == \"Bob\":\n",
    "    print(\"my name is Bob!\")"
   ]
  },
  {
   "cell_type": "code",
   "execution_count": 6,
   "metadata": {},
   "outputs": [
    {
     "name": "stdout",
     "output_type": "stream",
     "text": [
      "my name is Alice!\n"
     ]
    }
   ],
   "source": [
    "myName = \"Alice\"\n",
    "\n",
    "if myName == \"Bob\":\n",
    "    print(\"my name is Bob!\")\n",
    "else:\n",
    "    print(\"my name is {}!\".format(myName))"
   ]
  },
  {
   "cell_type": "code",
   "execution_count": 14,
   "metadata": {},
   "outputs": [
    {
     "name": "stdout",
     "output_type": "stream",
     "text": [
      "Hello Mary!\n"
     ]
    }
   ],
   "source": [
    "name = \"Mary\"\n",
    "\n",
    "if name == \"Bob\":\n",
    "    print(\"Hello Bob!\")\n",
    "elif name == \"Alice\":\n",
    "     print(\"Hello Alice!\")\n",
    "elif name == \"Mary\":\n",
    "    print(\"Hello Mary!\")\n",
    "else:\n",
    "     print(\"Hello Stranger!\")"
   ]
  },
  {
   "cell_type": "code",
   "execution_count": 21,
   "metadata": {},
   "outputs": [
    {
     "name": "stdout",
     "output_type": "stream",
     "text": [
      "1\n",
      "1 是奇數\n",
      "1 不行被3整除\n"
     ]
    }
   ],
   "source": [
    "number=int(input())\n",
    "if (number % 2) == 0:\n",
    "    print(\"{} 是偶數\".format(number))\n",
    "else:\n",
    "    print(\"{} 是奇數\".format(number))\n",
    "if (number % 3) == 0:\n",
    "    print(\"{} 可以被3整除\".format(number))\n",
    "else:\n",
    "    print(\"{} 不行被3整除\".format(number))"
   ]
  },
  {
   "cell_type": "code",
   "execution_count": 26,
   "metadata": {},
   "outputs": [
    {
     "name": "stdout",
     "output_type": "stream",
     "text": [
      "11\n",
      "不行\n"
     ]
    }
   ],
   "source": [
    "number=int(input())\n",
    "if (number % 8) == 0:\n",
    "    print(\"被8整除\")\n",
    "if (number % 5) == 0:\n",
    "     print(\"被5整除\")\n",
    "if (number % 2) == 0:\n",
    "    print(\"被2整除\")\n",
    "if (number % 2) != 0 or (number % 5) == 0 or (number % 8) == 0:\n",
    "     print(\"不行\")"
   ]
  },
  {
   "cell_type": "code",
   "execution_count": 46,
   "metadata": {},
   "outputs": [
    {
     "name": "stdout",
     "output_type": "stream",
     "text": [
      "放假\n",
      "放假\n"
     ]
    }
   ],
   "source": [
    "name=input()\n",
    "if name == \"放假\":\n",
    "    print(\"放假\")\n",
    "if name == \"淹大水\":\n",
    "    print(\"淹大水\")\n",
    "if name == \"有小河\":\n",
    "    print(\"有小河\")"
   ]
  },
  {
   "cell_type": "code",
   "execution_count": 45,
   "metadata": {},
   "outputs": [
    {
     "name": "stdout",
     "output_type": "stream",
     "text": [
      "11\n",
      "其他 不要亂\n"
     ]
    }
   ],
   "source": [
    "name=input()\n",
    "if name == \"1\" or name == \"一\":\n",
    "    print(\"星期一，猴子穿新衣，\")    \n",
    "elif name == \"2\" or name == \"二\":\n",
    "    print(\"星期二，猴子肚子餓，\")\n",
    "elif name == \"3\" or name == \"三\":\n",
    "    print(\"星期三，猴子去爬山，\")\n",
    "elif name == \"4\" or name == \"四\":\n",
    "    print(\"星期四，猴子看電視（去考試），\")\n",
    "elif name == \"5\" or name == \"五\":\n",
    "    print(\"呈期五，猴子去跳舞，\")\n",
    "elif name == \"6\" or name == \"六\":\n",
    "    print(\"星期六，猴子去斗六\") \n",
    "elif name == \"7\" or name == \"日\":\n",
    "    print(\"星期日，猴子過生日。\")     \n",
    "else:\n",
    "    print(\"其他 不要亂\")"
   ]
  },
  {
   "cell_type": "code",
   "execution_count": null,
   "metadata": {},
   "outputs": [],
   "source": []
  },
  {
   "cell_type": "code",
   "execution_count": null,
   "metadata": {},
   "outputs": [],
   "source": []
  }
 ],
 "metadata": {
  "kernelspec": {
   "display_name": "Python 3",
   "language": "python",
   "name": "python3"
  },
  "language_info": {
   "codemirror_mode": {
    "name": "ipython",
    "version": 3
   },
   "file_extension": ".py",
   "mimetype": "text/x-python",
   "name": "python",
   "nbconvert_exporter": "python",
   "pygments_lexer": "ipython3",
   "version": "3.7.1"
  }
 },
 "nbformat": 4,
 "nbformat_minor": 2
}
