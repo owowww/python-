{
 "cells": [
  {
   "cell_type": "code",
   "execution_count": 1,
   "metadata": {},
   "outputs": [],
   "source": []
  },
  {
   "cell_type": "code",
   "execution_count": 2,
   "metadata": {
    "scrolled": true
   },
   "outputs": [
    {
     "name": "stdout",
     "output_type": "stream",
     "text": [
      "28.55\n"
     ]
    }
   ],
   "source": []
  },
  {
   "cell_type": "code",
   "execution_count": 4,
   "metadata": {},
   "outputs": [],
   "source": [
    "fe_prices = [28.5, 29.6, 28.55, 29.15, 29.10, 29]"
   ]
  },
  {
   "cell_type": "code",
   "execution_count": 5,
   "metadata": {},
   "outputs": [
    {
     "name": "stdout",
     "output_type": "stream",
     "text": [
      "[28.5, 29.6, 28.55, 29.15, 29.1, 29]\n"
     ]
    }
   ],
   "source": [
    "print(fe_prices)"
   ]
  },
  {
   "cell_type": "code",
   "execution_count": 8,
   "metadata": {},
   "outputs": [
    {
     "data": {
      "text/plain": [
       "173.9"
      ]
     },
     "execution_count": 8,
     "metadata": {},
     "output_type": "execute_result"
    }
   ],
   "source": [
    "sum(fe_prices)"
   ]
  },
  {
   "cell_type": "code",
   "execution_count": 9,
   "metadata": {},
   "outputs": [
    {
     "data": {
      "text/plain": [
       "6"
      ]
     },
     "execution_count": 9,
     "metadata": {},
     "output_type": "execute_result"
    }
   ],
   "source": [
    "len(fe_prices)"
   ]
  },
  {
   "cell_type": "code",
   "execution_count": 10,
   "metadata": {},
   "outputs": [
    {
     "data": {
      "text/plain": [
       "28.983333333333334"
      ]
     },
     "execution_count": 10,
     "metadata": {},
     "output_type": "execute_result"
    }
   ],
   "source": [
    "sum(fe_prices)/len(fe_prices)"
   ]
  },
  {
   "cell_type": "code",
   "execution_count": 12,
   "metadata": {},
   "outputs": [
    {
     "data": {
      "text/plain": [
       "28.950000000000003"
      ]
     },
     "execution_count": 12,
     "metadata": {},
     "output_type": "execute_result"
    }
   ],
   "source": [
    "sum(fe_prices[0:4])/len(fe_prices[0:4])"
   ]
  },
  {
   "cell_type": "code",
   "execution_count": 13,
   "metadata": {},
   "outputs": [
    {
     "data": {
      "text/plain": [
       "28.950000000000003"
      ]
     },
     "execution_count": 13,
     "metadata": {},
     "output_type": "execute_result"
    }
   ],
   "source": [
    "sum(fe_prices[0:4])/4"
   ]
  },
  {
   "cell_type": "code",
   "execution_count": 16,
   "metadata": {},
   "outputs": [
    {
     "data": {
      "text/plain": [
       "29.15"
      ]
     },
     "execution_count": 16,
     "metadata": {},
     "output_type": "execute_result"
    }
   ],
   "source": [
    "sum(fe_prices[-3:4])"
   ]
  },
  {
   "cell_type": "code",
   "execution_count": 23,
   "metadata": {},
   "outputs": [
    {
     "name": "stdout",
     "output_type": "stream",
     "text": [
      "86.65\n",
      "28.883333333333336\n"
     ]
    }
   ],
   "source": [
    "first_three_prices = sum(fe_prices[0:3])\n",
    "moving_average = sum(fe_prices[0:3])/len(fe_prices[0:3])\n",
    "print(first_three_prices)\n",
    "print(moving_average)"
   ]
  },
  {
   "cell_type": "code",
   "execution_count": 26,
   "metadata": {},
   "outputs": [
    {
     "name": "stdout",
     "output_type": "stream",
     "text": [
      "['CT HUANG', False, 100, ['APP Inventor', 'JAVA', 'C#', 'Python', 'Android', 'ASP.Net']]\n"
     ]
    }
   ],
   "source": [
    "name = \"CT HUANG\"\n",
    "is_Student = False\n",
    "weight = 100\n",
    "number_of_courses = [\"APP Inventor\", \"JAVA\", \"C#\", \"Python\", \"Android\", \"ASP.Net\" ]\n",
    "\n",
    "cthuang = [name, is_Student, weight, number_of_courses]\n",
    "print(cthuang)"
   ]
  },
  {
   "cell_type": "code",
   "execution_count": 27,
   "metadata": {},
   "outputs": [
    {
     "name": "stdout",
     "output_type": "stream",
     "text": [
      "['APP Inventor', 'JAVA', 'C#', 'Python', 'Android', 'ASP.Net']\n",
      "[1, 2, 3, 4, 5, 6]\n",
      "JAVA\n",
      "APP Inventor\n"
     ]
    }
   ],
   "source": [
    "courses = [[\"APP Inventor\", \"JAVA\", \"C#\", \"Python\", \"Android\", \"ASP.Net\" ], [1,2,3,4,5,6]]\n",
    "print(courses[0])\n",
    "print(courses[1])\n",
    "print(courses[0][1])\n",
    "print(courses[-2][-6])"
   ]
  },
  {
   "cell_type": "code",
   "execution_count": 51,
   "metadata": {},
   "outputs": [
    {
     "name": "stdout",
     "output_type": "stream",
     "text": [
      "[[60, 70, 80], [80, 90, 100, 50], [40, 50, 60]]\n",
      "70.0\n",
      "80.0\n",
      "50.0\n"
     ]
    }
   ],
   "source": [
    "程式=[60,70,80]\n",
    "管理=[80,90,100]\n",
    "資料庫=[40,50,60]\n",
    "student=[程式,管理,資料庫]\n",
    "student[1].append(50)#加入管理學第四次考試成績\n",
    "print(student)\n",
    "print(sum(student[0])/len(student[0]))\n",
    "print(sum(student[1])/len(student[1]))\n",
    "print(sum(student[2])/len(student[2]))"
   ]
  },
  {
   "cell_type": "code",
   "execution_count": 50,
   "metadata": {},
   "outputs": [
    {
     "name": "stdout",
     "output_type": "stream",
     "text": [
      "70.0\n"
     ]
    }
   ],
   "source": [
    "math=[60,80]\n",
    "student.append(math)#加入第四科科目 數學\n",
    "print(sum(student[3])/len(student[3]))"
   ]
  },
  {
   "cell_type": "code",
   "execution_count": null,
   "metadata": {},
   "outputs": [],
   "source": []
  },
  {
   "cell_type": "code",
   "execution_count": 53,
   "metadata": {},
   "outputs": [
    {
     "data": {
      "text/plain": [
       "['APP Inventor', 'PHP', 'JAVA', 'C#', 'Python', 'Android', 'ASP.Net']"
      ]
     },
     "execution_count": 53,
     "metadata": {},
     "output_type": "execute_result"
    }
   ],
   "source": [
    "courses = [\"APP Inventor\", \"JAVA\", \"C#\", \"Python\", \"Android\", \"ASP.Net\" ]\n",
    "courses.insert(1, \"PHP\")#替換\n",
    "courses"
   ]
  },
  {
   "cell_type": "code",
   "execution_count": 54,
   "metadata": {},
   "outputs": [
    {
     "data": {
      "text/plain": [
       "['APP Inventor', 'JAVA', 'C#', 'Python', 'Android']"
      ]
     },
     "execution_count": 54,
     "metadata": {},
     "output_type": "execute_result"
    }
   ],
   "source": [
    "courses = [\"APP Inventor\", \"JAVA\", \"C#\", \"Python\", \"Android\", \"ASP.Net\" ]\n",
    "courses.pop()\n",
    "courses"
   ]
  },
  {
   "cell_type": "code",
   "execution_count": 55,
   "metadata": {},
   "outputs": [
    {
     "data": {
      "text/plain": [
       "['APP Inventor', 'C#', 'Python', 'Android', 'ASP.Net']"
      ]
     },
     "execution_count": 55,
     "metadata": {},
     "output_type": "execute_result"
    }
   ],
   "source": [
    "courses = [\"APP Inventor\", \"JAVA\", \"C#\", \"Python\", \"Android\", \"ASP.Net\" ]\n",
    "courses.remove(\"JAVA\")\n",
    "courses"
   ]
  },
  {
   "cell_type": "code",
   "execution_count": 59,
   "metadata": {},
   "outputs": [
    {
     "name": "stdout",
     "output_type": "stream",
     "text": [
      "[30, 50, 60, 90]\n"
     ]
    },
    {
     "data": {
      "text/plain": [
       "60"
      ]
     },
     "execution_count": 59,
     "metadata": {},
     "output_type": "execute_result"
    }
   ],
   "source": [
    "score =[60,90,30,50]\n",
    "score.sort()\n",
    "print(score)\n",
    "score[-2]"
   ]
  },
  {
   "cell_type": "code",
   "execution_count": 60,
   "metadata": {},
   "outputs": [
    {
     "name": "stdout",
     "output_type": "stream",
     "text": [
      "[90, 60, 50, 30]\n"
     ]
    },
    {
     "data": {
      "text/plain": [
       "60"
      ]
     },
     "execution_count": 60,
     "metadata": {},
     "output_type": "execute_result"
    }
   ],
   "source": [
    "score =[60,90,30,50]\n",
    "score.sort()\n",
    "score.reverse()\n",
    "print(score)\n",
    "score[1]"
   ]
  },
  {
   "cell_type": "code",
   "execution_count": 64,
   "metadata": {},
   "outputs": [
    {
     "name": "stdout",
     "output_type": "stream",
     "text": [
      "A\n",
      "OOO 歡迎登入\n"
     ]
    }
   ],
   "source": [
    "ok = [\"A\",\"B\",\"C\"]\n",
    "i=input()\n",
    "if (i in ok):\n",
    "    print(\"OOO 歡迎登入\")\n",
    "else:\n",
    "    print(\"無法登入\")"
   ]
  },
  {
   "cell_type": "code",
   "execution_count": 66,
   "metadata": {},
   "outputs": [
    {
     "name": "stdout",
     "output_type": "stream",
     "text": [
      "1. APP Inventor\n",
      "2. JAVA\n",
      "3. C#\n",
      "4. Python\n",
      "5. Android\n",
      "6. ASP.Net\n"
     ]
    }
   ],
   "source": [
    "courses = [\"APP Inventor\", \"JAVA\", \"C#\", \"Python\", \"Android\", \"ASP.Net\" ]\n",
    "print(\"1. \" + courses[0])\n",
    "print(\"2. \" + courses[1])\n",
    "print(\"3. \" + courses[2])\n",
    "print(\"4. \" + courses[3])\n",
    "print(\"5. \" + courses[4])\n",
    "print(\"6. \" + courses[5])"
   ]
  },
  {
   "cell_type": "code",
   "execution_count": 76,
   "metadata": {},
   "outputs": [
    {
     "name": "stdout",
     "output_type": "stream",
     "text": [
      "1. APP Inventor\n",
      "2. JAVA\n",
      "3. C#\n",
      "4. Python\n",
      "5. Android\n",
      "6. ASP.Net\n"
     ]
    }
   ],
   "source": [
    "a=1\n",
    "for i in courses:   \n",
    "    print(str(a)+\". \"+i)\n",
    "    a=a+1"
   ]
  },
  {
   "cell_type": "code",
   "execution_count": 94,
   "metadata": {},
   "outputs": [
    {
     "name": "stdout",
     "output_type": "stream",
     "text": [
      "1. APP Inventor\n",
      "3. C#\n",
      "5. Android\n"
     ]
    }
   ],
   "source": [
    "a=1\n",
    "for i in courses:\n",
    "    if a%2==1:\n",
    "        print(str(a)+\". \"+i)\n",
    "    a=a+1"
   ]
  },
  {
   "cell_type": "code",
   "execution_count": 106,
   "metadata": {},
   "outputs": [
    {
     "name": "stdout",
     "output_type": "stream",
     "text": [
      "1\n",
      "3\n",
      "5\n",
      "7\n",
      "9\n"
     ]
    }
   ],
   "source": [
    "for i in range(1, 11):\n",
    "    if i%2==1:\n",
    "        print(i)"
   ]
  },
  {
   "cell_type": "code",
   "execution_count": 110,
   "metadata": {},
   "outputs": [
    {
     "name": "stdout",
     "output_type": "stream",
     "text": [
      "總和: 25\n"
     ]
    }
   ],
   "source": [
    "s = 0\n",
    "for i in range(1, 11):\n",
    "    if(i%2 == 1):\n",
    "        s = s + i\n",
    "print(\"總和: \"+ str(s))"
   ]
  },
  {
   "cell_type": "code",
   "execution_count": 109,
   "metadata": {},
   "outputs": [
    {
     "name": "stdout",
     "output_type": "stream",
     "text": [
      "總和: 250000\n"
     ]
    }
   ],
   "source": [
    "s = []\n",
    "for i in range(1, 1001):\n",
    "    if(i%2 == 1):\n",
    "        s.append(i)\n",
    "print(\"總和: \"+ str(sum(s)))"
   ]
  },
  {
   "cell_type": "code",
   "execution_count": 112,
   "metadata": {},
   "outputs": [
    {
     "name": "stdout",
     "output_type": "stream",
     "text": [
      "總和: 234168\n"
     ]
    }
   ],
   "source": [
    "s = []\n",
    "for i in range(1, 1001):\n",
    "    if(i%3 == 0 or i%5 == 0):\n",
    "        s.append(i)\n",
    "print(\"總和: \"+ str(sum(s)))"
   ]
  },
  {
   "cell_type": "code",
   "execution_count": 113,
   "metadata": {},
   "outputs": [
    {
     "name": "stdout",
     "output_type": "stream",
     "text": [
      "總和: 250000\n"
     ]
    }
   ],
   "source": [
    "s = []\n",
    "for i in range(1, 1001,2):\n",
    "        s.append(i)\n",
    "print(\"總和: \"+ str(sum(s)))"
   ]
  },
  {
   "cell_type": "code",
   "execution_count": 114,
   "metadata": {},
   "outputs": [
    {
     "name": "stdout",
     "output_type": "stream",
     "text": [
      "10\n",
      "9\n",
      "8\n",
      "7\n",
      "6\n",
      "5\n",
      "4\n",
      "3\n",
      "2\n",
      "1\n"
     ]
    }
   ],
   "source": [
    "my_int = 10\n",
    "\n",
    "# 若 my_int 大於 0, 就繼續執行迴圈\n",
    "while my_int > 0:\n",
    "    print(my_int)\n",
    "    # 每一次迭代就把 my_int 減一\n",
    "    my_int = my_int - 1"
   ]
  },
  {
   "cell_type": "code",
   "execution_count": 115,
   "metadata": {},
   "outputs": [
    {
     "name": "stdout",
     "output_type": "stream",
     "text": [
      "總和: 250000\n"
     ]
    }
   ],
   "source": [
    "s = []\n",
    "i = 1\n",
    "while i <=1000:\n",
    "    if(i%2 ==1):\n",
    "        s.append(i)\n",
    "    i = i + 1\n",
    "print(\"總和: \"+ str(sum(s)))"
   ]
  },
  {
   "cell_type": "code",
   "execution_count": 118,
   "metadata": {},
   "outputs": [
    {
     "name": "stdout",
     "output_type": "stream",
     "text": [
      "輸入 7 才會停下來喔\n",
      "7\n",
      "您輸入的是7\n",
      "跳出迴圈了, yay!\n"
     ]
    }
   ],
   "source": [
    "while True:\n",
    "    print(\"輸入 7 才會停下來喔\")\n",
    "    user_number = int(input())\n",
    "    print(\"您輸入的是\" + str(user_number))\n",
    "    # 若使用者輸入的是7，就跳出 while 迴圈\n",
    "    if user_number == 7:\n",
    "        break\n",
    "\n",
    "print(\"跳出迴圈了, yay!\")"
   ]
  },
  {
   "cell_type": "code",
   "execution_count": 121,
   "metadata": {},
   "outputs": [
    {
     "name": "stdout",
     "output_type": "stream",
     "text": [
      "1\n",
      "2\n",
      "3\n",
      "4\n",
      "5\n",
      "6\n",
      "8\n",
      "9\n"
     ]
    }
   ],
   "source": [
    "i = 0\n",
    "while True:\n",
    "    i=i+1\n",
    "    if(i == 10):\n",
    "        break\n",
    "        \n",
    "    if(i ==7):\n",
    "        continue\n",
    "    print(i)   "
   ]
  },
  {
   "cell_type": "code",
   "execution_count": null,
   "metadata": {},
   "outputs": [],
   "source": [
    "for x in range(1,10):\n",
    "    for y in range(1,10):\n",
    "        print (str(x) + \" x \" + str(y) + \" = \" + str(x*y)) \n",
    "        #挖洞版\n",
    "        #print (\"{} x {} = {}\".format(y,x,x*y)) "
   ]
  },
  {
   "cell_type": "code",
   "execution_count": null,
   "metadata": {},
   "outputs": [],
   "source": [
    "s = []\n",
    "while True:\n",
    "    user_number = input(\"請讓使用者輸入數字，直到輸入 “q” 才離開\")       \n",
    "    if (user_number == \"q\"):\n",
    "        break         \n",
    "    elif user_number.isdigit():\n",
    "         user_number=int(user_number)\n",
    "         s.append(user_number)\n",
    "print(\"總和: \"+ str(sum(s))) \n",
    "print(\"平均: \"+ str(sum(s)/len(s)))         "
   ]
  },
  {
   "cell_type": "code",
   "execution_count": null,
   "metadata": {},
   "outputs": [],
   "source": []
  },
  {
   "cell_type": "code",
   "execution_count": null,
   "metadata": {},
   "outputs": [],
   "source": []
  },
  {
   "cell_type": "code",
   "execution_count": null,
   "metadata": {},
   "outputs": [],
   "source": []
  }
 ],
 "metadata": {
  "kernelspec": {
   "display_name": "Python 3",
   "language": "python",
   "name": "python3"
  },
  "language_info": {
   "codemirror_mode": {
    "name": "ipython",
    "version": 3
   },
   "file_extension": ".py",
   "mimetype": "text/x-python",
   "name": "python",
   "nbconvert_exporter": "python",
   "pygments_lexer": "ipython3",
   "version": "3.7.1"
  }
 },
 "nbformat": 4,
 "nbformat_minor": 2
}
