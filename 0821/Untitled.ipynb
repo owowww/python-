{
 "cells": [
  {
   "cell_type": "code",
   "execution_count": 186,
   "metadata": {},
   "outputs": [
    {
     "name": "stdout",
     "output_type": "stream",
     "text": [
      "*****\n",
      "***\n",
      "*\n",
      "***\n",
      "*****\n"
     ]
    }
   ],
   "source": [
    "n=4\n",
    "for i in range(1,n):   \n",
    "    for k in range(2 * (n - i) - 1):\n",
    "        print (\"*\", end=\"\")\n",
    "    print (\"\")\n",
    "for i in range(2,n):        \n",
    "    for k in range(2 * i -1):\n",
    "        print (\"*\", end=\"\")        \n",
    "    print (\"\")   "
   ]
  },
  {
   "cell_type": "code",
   "execution_count": 7,
   "metadata": {},
   "outputs": [],
   "source": [
    "f = open(\"demofile.txt\")"
   ]
  },
  {
   "cell_type": "code",
   "execution_count": 6,
   "metadata": {},
   "outputs": [
    {
     "data": {
      "text/plain": [
       "'C:\\\\Users\\\\MIS801\\\\0821'"
      ]
     },
     "execution_count": 6,
     "metadata": {},
     "output_type": "execute_result"
    }
   ],
   "source": [
    "pwd"
   ]
  },
  {
   "cell_type": "code",
   "execution_count": 12,
   "metadata": {},
   "outputs": [
    {
     "name": "stdout",
     "output_type": "stream",
     "text": [
      "Hello! Welcome to demofile.txt\n",
      "This file is for testing purposes.\n",
      "Good Luck!\n"
     ]
    }
   ],
   "source": [
    "f = open(\"demofile.txt\", \"r\")\n",
    "print(f.read())"
   ]
  },
  {
   "cell_type": "code",
   "execution_count": 59,
   "metadata": {},
   "outputs": [
    {
     "name": "stdout",
     "output_type": "stream",
     "text": [
      "Hello\n"
     ]
    }
   ],
   "source": [
    "f = open(\"demofile.txt\", \"r\")\n",
    "print(f.read(5))"
   ]
  },
  {
   "cell_type": "code",
   "execution_count": 43,
   "metadata": {
    "scrolled": true
   },
   "outputs": [
    {
     "name": "stdout",
     "output_type": "stream",
     "text": [
      "Hello! Welcome to demofile.txt\n",
      "This file is for testing purposes.\n",
      "Good Luck!"
     ]
    }
   ],
   "source": [
    "with open(\"demofile.txt\") as f: \n",
    "    for line in f: \n",
    "        print(line,end=\"\")"
   ]
  },
  {
   "cell_type": "code",
   "execution_count": 52,
   "metadata": {},
   "outputs": [
    {
     "name": "stdout",
     "output_type": "stream",
     "text": [
      "1 . Hello! Welcome to demofile.txt\n",
      "2 . This file is for testing purposes.\n",
      "3 . Good Luck!"
     ]
    }
   ],
   "source": [
    "with open(\"demofile.txt\") as f: \n",
    "    a=1\n",
    "    for line in f: \n",
    "        print(str(a),\".\",line,end=\"\")\n",
    "        a+=1"
   ]
  },
  {
   "cell_type": "code",
   "execution_count": 53,
   "metadata": {},
   "outputs": [
    {
     "name": "stdout",
     "output_type": "stream",
     "text": [
      "1.Hello! Welcome to demofile.txt\n",
      "2.This file is for testing purposes.\n",
      "3.Good Luck!"
     ]
    }
   ],
   "source": [
    "f = open(\"demofile.txt\")\n",
    "a=1\n",
    "for line in f: \n",
    "    print(str(a)+\".\" + line,end=\"\")\n",
    "    a = a + 1"
   ]
  },
  {
   "cell_type": "code",
   "execution_count": 72,
   "metadata": {},
   "outputs": [],
   "source": [
    "f = open(\"demofile.txt\", \"a\")\n",
    "f.write(\"Now the file has one more line!\")\n",
    "f.close()"
   ]
  },
  {
   "cell_type": "code",
   "execution_count": 107,
   "metadata": {},
   "outputs": [],
   "source": [
    "f = open(\"demofile.txt\")\n",
    "f1 = open(\"demofile2.txt\",\"a\")\n",
    "a=1\n",
    "for line in f: \n",
    "    f1.write(str(a)+\". \" + line)\n",
    "    a = a + 1\n",
    "\n",
    "f.close()\n",
    "f1.close()"
   ]
  },
  {
   "cell_type": "code",
   "execution_count": 185,
   "metadata": {},
   "outputs": [
    {
     "name": "stdout",
     "output_type": "stream",
     "text": [
      "檔案不存在\n"
     ]
    }
   ],
   "source": [
    "#判斷檔案是否存在\n",
    "import os\n",
    "if os.path.exists(\"demofile2.txt\"):\n",
    "    os.remove(\"demofile2.txt\")#刪除檔案\n",
    "    print(\"檔案刪除\")  \n",
    "else:\n",
    "    print(\"檔案不存在\") \n"
   ]
  },
  {
   "cell_type": "code",
   "execution_count": 183,
   "metadata": {},
   "outputs": [],
   "source": [
    "f = open(\"1.txt\")\n",
    "f1 = open(\"2.txt\",\"a\")\n",
    "a=1\n",
    "for line in f: \n",
    "    if (\"BBB\") in line:\n",
    "        continue\n",
    "    f1.write(str(a)+\". \" + line)\n",
    "    a = a + 1\n",
    "\n",
    "f.close()\n",
    "f1.close()           "
   ]
  },
  {
   "cell_type": "code",
   "execution_count": 215,
   "metadata": {},
   "outputs": [],
   "source": [
    "import os\n",
    "os.mkdir(\"資料夾名稱\")"
   ]
  },
  {
   "cell_type": "code",
   "execution_count": 216,
   "metadata": {},
   "outputs": [],
   "source": [
    "#刪除資料夾\n",
    "import shutil\n",
    "shutil.rmtree(\"資料夾名稱\")\n",
    "#import os\n",
    "#os.removedirs(\"資料夾名稱\")"
   ]
  },
  {
   "cell_type": "code",
   "execution_count": null,
   "metadata": {},
   "outputs": [],
   "source": [
    "讓使用者輸入一個數字 k，\n",
    "自動產生 1~k的資料夾，\n",
    "每個資料夾內產生相對應的檔案\n",
    "編號1資料夾，裡面會有1個檔案,檔名為1.txt\n",
    "編號2資料夾，裡面會有2個檔案,檔名為1.txt 2.txt\n",
    "…\n",
    "\n",
    "每個檔名都會寫入相對應的文字\n",
    "1.txt 裡面有 1\n",
    "2.txt 裡面有 2\n",
    "import os\n",
    "k=int(input())\n",
    "for i in range(k): \n",
    "    os.mkdir(str(i+1))\n",
    "    for j in range(i+1): \n",
    "        f = open(str(i+1)+\"/\"+str(j+1)+\".txt\",\"a\")\n",
    "        f.write(str(j+1))\n",
    "        f.close()"
   ]
  },
  {
   "cell_type": "code",
   "execution_count": null,
   "metadata": {},
   "outputs": [],
   "source": []
  },
  {
   "cell_type": "code",
   "execution_count": null,
   "metadata": {},
   "outputs": [],
   "source": []
  },
  {
   "cell_type": "code",
   "execution_count": null,
   "metadata": {},
   "outputs": [],
   "source": []
  }
 ],
 "metadata": {
  "kernelspec": {
   "display_name": "Python 3",
   "language": "python",
   "name": "python3"
  },
  "language_info": {
   "codemirror_mode": {
    "name": "ipython",
    "version": 3
   },
   "file_extension": ".py",
   "mimetype": "text/x-python",
   "name": "python",
   "nbconvert_exporter": "python",
   "pygments_lexer": "ipython3",
   "version": "3.7.1"
  }
 },
 "nbformat": 4,
 "nbformat_minor": 2
}
