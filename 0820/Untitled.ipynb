{
 "cells": [
  {
   "cell_type": "code",
   "execution_count": 2,
   "metadata": {},
   "outputs": [
    {
     "name": "stdout",
     "output_type": "stream",
     "text": [
      "5\n",
      "120\n"
     ]
    }
   ],
   "source": [
    "#N階層 N!\n",
    "n=int(input())\n",
    "sum=1\n",
    "for i in range(1,n+1):\n",
    "    sum*=i\n",
    "print(sum)    "
   ]
  },
  {
   "cell_type": "code",
   "execution_count": 3,
   "metadata": {},
   "outputs": [
    {
     "name": "stdout",
     "output_type": "stream",
     "text": [
      "輸入:5\n",
      "5 是質數\n"
     ]
    }
   ],
   "source": [
    "#質數判別\n",
    "num = int(input(\"輸入:\"))\n",
    "#質數>1\n",
    "if num > 1:\n",
    "    for i in range(2,num):\n",
    "        if (num % i) == 0:\n",
    "            print(num,\"不是質數\")\n",
    "            print(i,\"乘於\",num//i,\"是\",num)\n",
    "            break\n",
    "    else:\n",
    "        print(num,\"是質數\")       \n",
    "            \n",
    "else:\n",
    "    print(num,\"不是質數\")"
   ]
  },
  {
   "cell_type": "code",
   "execution_count": 4,
   "metadata": {},
   "outputs": [
    {
     "name": "stdout",
     "output_type": "stream",
     "text": [
      "5\n",
      "19\n"
     ]
    }
   ],
   "source": [
    "#輸入一實數d,假設破布面積d,每次將破布撕去一半, 請問多久次以後面積會小於0.00001\n",
    "sc=[]\n",
    "my_int=int(input())\n",
    "while my_int>0.00001:\n",
    "    my_int=my_int/2\n",
    "    sc.append(1)\n",
    "print(len(sc))    "
   ]
  },
  {
   "cell_type": "code",
   "execution_count": 14,
   "metadata": {},
   "outputs": [
    {
     "name": "stdout",
     "output_type": "stream",
     "text": [
      "8\n"
     ]
    }
   ],
   "source": [
    "#請利用迴圈計算 馬路全長596公尺，小明從左邊開始走每分鐘走30公尺，小王從另外一頭開始走，每分鐘走50公尺，請問要幾分鐘後，兩位會碰頭？\n",
    "sc=[]\n",
    "my_int=0\n",
    "while my_int<596:\n",
    "    my_int=my_int+80\n",
    "    sc.append(1)\n",
    "print(len(sc))  "
   ]
  },
  {
   "cell_type": "code",
   "execution_count": 5,
   "metadata": {},
   "outputs": [
    {
     "name": "stdout",
     "output_type": "stream",
     "text": [
      "*****\n"
     ]
    }
   ],
   "source": [
    "#請利用迴圈印出下列符號\n",
    "for i in range(0,5):\n",
    "    print(\"*\",end=\"\")  \n",
    "print(\"\")    "
   ]
  },
  {
   "cell_type": "code",
   "execution_count": 16,
   "metadata": {},
   "outputs": [
    {
     "name": "stdout",
     "output_type": "stream",
     "text": [
      "*\n",
      "***\n",
      "*****\n"
     ]
    }
   ],
   "source": [
    "n=3\n",
    "for i in range(1,n+1):#\n",
    "        for j in range(1,i*2):#\n",
    "            print(\"*\",end=\"\")\n",
    "        print(\"\")"
   ]
  },
  {
   "cell_type": "code",
   "execution_count": 11,
   "metadata": {},
   "outputs": [
    {
     "name": "stdout",
     "output_type": "stream",
     "text": [
      "****\n",
      "***\n",
      "**\n",
      "*\n"
     ]
    }
   ],
   "source": [
    "n=4\n",
    "for i in range(1,n+1):\n",
    "        for j in range(1,n-i+2):\n",
    "            print('*',end='')\n",
    "        print()"
   ]
  },
  {
   "cell_type": "code",
   "execution_count": 13,
   "metadata": {},
   "outputs": [
    {
     "name": "stdout",
     "output_type": "stream",
     "text": [
      "('apple', 'banana', 'cherry')\n"
     ]
    }
   ],
   "source": [
    "#Create a Tuple:\n",
    "thistuple = (\"apple\", \"banana\", \"cherry\")\n",
    "print(thistuple)"
   ]
  },
  {
   "cell_type": "code",
   "execution_count": null,
   "metadata": {},
   "outputs": [],
   "source": [
    "#99乘法\n",
    "for i in range(1, 10, 1):\n",
    "    for j in range(1, 10, 1):\n",
    "        print(i, 'x', j, '=', i*j)"
   ]
  },
  {
   "cell_type": "code",
   "execution_count": 126,
   "metadata": {},
   "outputs": [
    {
     "name": "stdout",
     "output_type": "stream",
     "text": [
      "*****\n",
      "\n",
      "***\n",
      "\n",
      "*\n",
      "0\n",
      "\n",
      "000\n",
      "\n",
      "00000\n"
     ]
    }
   ],
   "source": [
    "for i in range(1, 10, 2):\n",
    "    for k in range(5,11-i):\n",
    "        print('*',end='')\n",
    "    print()   # 每印完一個數字要換行    \n",
    "    for j in range(3,i-1):\n",
    "        print('0',end='')   # 設定end參數讓print()不要換行\n",
    "\n",
    "    print()   # 每印完一個數字要換行"
   ]
  },
  {
   "cell_type": "code",
   "execution_count": null,
   "metadata": {},
   "outputs": [],
   "source": []
  },
  {
   "cell_type": "code",
   "execution_count": null,
   "metadata": {},
   "outputs": [],
   "source": []
  }
 ],
 "metadata": {
  "kernelspec": {
   "display_name": "Python 3",
   "language": "python",
   "name": "python3"
  },
  "language_info": {
   "codemirror_mode": {
    "name": "ipython",
    "version": 3
   },
   "file_extension": ".py",
   "mimetype": "text/x-python",
   "name": "python",
   "nbconvert_exporter": "python",
   "pygments_lexer": "ipython3",
   "version": "3.7.1"
  }
 },
 "nbformat": 4,
 "nbformat_minor": 2
}
